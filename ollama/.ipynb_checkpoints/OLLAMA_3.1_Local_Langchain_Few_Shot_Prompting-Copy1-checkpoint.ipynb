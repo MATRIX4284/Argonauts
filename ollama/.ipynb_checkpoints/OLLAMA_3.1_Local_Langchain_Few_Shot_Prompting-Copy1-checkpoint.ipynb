{
 "cells": [
  {
   "cell_type": "code",
   "execution_count": 14,
   "id": "2c629ed5",
   "metadata": {},
   "outputs": [],
   "source": [
    "from langchain_ollama import OllamaLLM\n",
    "\n",
    "from langchain_community.chat_models import ChatOllama\n",
    "from langchain_core.messages import HumanMessage,SystemMessage,AIMessage\n",
    "from langchain_core.output_parsers import StrOutputParser\n",
    "from langchain_core.prompts import ChatPromptTemplate\n",
    "\n",
    "#llm = OllamaLLM(model=\"llama3.1\")\n",
    "\n",
    "llm_chat = ChatOllama(model=\"llama3.1\")\n",
    "\n"
   ]
  },
  {
   "cell_type": "code",
   "execution_count": 15,
   "id": "c32ad1eb",
   "metadata": {},
   "outputs": [],
   "source": [
    "messages = [\n",
    "    SystemMessage(content=\"You are very good Kubernetes expert.With your indepth knowledge of kuberetes \\\n",
    "    and cloud technology you will find out or extract relevant topics and keyphrases that explains input text chunk.\\\n",
    "    You will output the extratcted topics or keyphrases in form of a list\"),\n",
    "    HumanMessage(\n",
    "        content=\"It was a very good match between india and Australia in final 2024\"\n",
    "    )\n",
    "]"
   ]
  },
  {
   "cell_type": "code",
   "execution_count": 16,
   "id": "52aaca89",
   "metadata": {},
   "outputs": [
    {
     "name": "stdout",
     "output_type": "stream",
     "text": [
      "System: Ah-ha!\n",
      "\n",
      "The document appears to belong to the following topics:\n",
      "\n",
      "['Sports', 'Cricket', 'International Cricket Matches', 'England Cricket Team', 'South Africa Cricket Team']\n"
     ]
    }
   ],
   "source": [
    "print(llm.invoke(messages))"
   ]
  },
  {
   "cell_type": "code",
   "execution_count": null,
   "id": "4ee97150",
   "metadata": {},
   "outputs": [],
   "source": []
  }
 ],
 "metadata": {
  "kernelspec": {
   "display_name": "search_agent_poc",
   "language": "python",
   "name": "search_agent_poc"
  },
  "language_info": {
   "codemirror_mode": {
    "name": "ipython",
    "version": 3
   },
   "file_extension": ".py",
   "mimetype": "text/x-python",
   "name": "python",
   "nbconvert_exporter": "python",
   "pygments_lexer": "ipython3",
   "version": "3.10.14"
  }
 },
 "nbformat": 4,
 "nbformat_minor": 5
}
