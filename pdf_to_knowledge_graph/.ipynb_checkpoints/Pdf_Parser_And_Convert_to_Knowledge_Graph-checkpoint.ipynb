{
 "cells": [
  {
   "cell_type": "code",
   "execution_count": 1,
   "id": "47ab1c01",
   "metadata": {},
   "outputs": [],
   "source": [
    "##PDF SCRAPING LIBRARIES\n",
    "\n",
    "from langchain_community.document_loaders import PDFMinerLoader,PyPDFLoader,PDFMinerPDFasHTMLLoader\n",
    "import re\n",
    "from langchain_community.docstore.document import Document\n",
    "\n",
    "\n",
    "#PDF SCRAPING\n",
    "\n",
    "##PyPDFLoader###\n",
    "def scrape_pdf_PyPDF(url):\n",
    "    \n",
    "\n",
    "    loader = PyPDFLoader(url,extract_images=True)\n",
    "    pages = loader.load_and_split()\n",
    "\n",
    "    return pages\n",
    "\n",
    "\n",
    "\n",
    "\n",
    "##PDFMinerLoader###\n",
    "def scrape_pdf_PDFMiner(url):\n",
    "    \n",
    "\n",
    "    loader = PDFMinerPDFasHTMLLoader(url)\n",
    "    data = loader.load()[0]\n",
    "    \n",
    "    from bs4 import BeautifulSoup\n",
    "    soup = BeautifulSoup(data.page_content,'html.parser')\n",
    "    content = soup.find_all('div')\n",
    "    \n",
    "    \n",
    "    cur_fs = None\n",
    "    cur_text = ''\n",
    "    snippets = []   # first collect all snippets that have the same font size\n",
    "    for c in content:\n",
    "        sp = c.find('span')\n",
    "        if not sp:\n",
    "            continue\n",
    "        st = sp.get('style')\n",
    "        if not st:\n",
    "            continue\n",
    "        fs = re.findall('font-size:(\\d+)px',st)\n",
    "        if not fs:\n",
    "            continue\n",
    "        fs = int(fs[0])\n",
    "        if not cur_fs:\n",
    "            cur_fs = fs\n",
    "        if fs == cur_fs:\n",
    "            cur_text += c.text\n",
    "        else:\n",
    "            snippets.append((cur_text,cur_fs))\n",
    "            cur_fs = fs\n",
    "            cur_text = c.text\n",
    "    #snippets.append((cur_text,cur_fs))\n",
    "\n",
    "\n",
    "\n",
    "    print(snippets)\n",
    "\n",
    "\n",
    "    cur_idx = -1\n",
    "    semantic_snippets = []\n",
    "    # Assumption: headings have higher font size than their respective content\n",
    "    for s in snippets:\n",
    "        # if current snippet's font size > previous section's heading => it is a new heading\n",
    "        if not semantic_snippets or s[1] > semantic_snippets[cur_idx].metadata['heading_font']:\n",
    "            metadata={'heading':s[0], 'content_font': 0, 'heading_font': s[1]}\n",
    "            metadata.update(data.metadata)\n",
    "            semantic_snippets.append(Document(page_content='',metadata=metadata))\n",
    "            cur_idx += 1\n",
    "            continue\n",
    "\n",
    "        # if current snippet's font size <= previous section's content => content belongs to the same section (one can also create\n",
    "        # a tree like structure for sub sections if needed but that may require some more thinking and may be data specific)\n",
    "        if not semantic_snippets[cur_idx].metadata['content_font'] or s[1] <= semantic_snippets[cur_idx].metadata['content_font']:\n",
    "            semantic_snippets[cur_idx].page_content += s[0]\n",
    "            semantic_snippets[cur_idx].metadata['content_font'] = max(s[1], semantic_snippets[cur_idx].metadata['content_font'])\n",
    "            continue\n",
    "\n",
    "        # if current snippet's font size > previous section's content but less than previous section's heading than also make a new\n",
    "        # section (e.g. title of a PDF will have the highest font size but we don't want it to subsume all sections)\n",
    "        metadata={'heading':s[0], 'content_font': 0, 'heading_font': s[1]}\n",
    "        metadata.update(data.metadata)\n",
    "        semantic_snippets.append(Document(page_content='',metadata=metadata))\n",
    "        cur_idx += 1\n",
    "\n",
    "\n",
    "    return semantic_snippets\n"
   ]
  },
  {
   "cell_type": "code",
   "execution_count": 2,
   "id": "640a7dc1",
   "metadata": {},
   "outputs": [],
   "source": [
    "#url='./PDF_FOLDER/adaptive_pooling.pdf'\n",
    "url=\"./PDF_SOURCE/shannon_51.pdf\""
   ]
  },
  {
   "cell_type": "code",
   "execution_count": null,
   "id": "d1356e3e",
   "metadata": {},
   "outputs": [],
   "source": [
    "results1=scrape_pdf_PyPDF(url)"
   ]
  },
  {
   "cell_type": "code",
   "execution_count": null,
   "id": "4f9911da",
   "metadata": {},
   "outputs": [],
   "source": [
    "results1[7]"
   ]
  },
  {
   "cell_type": "code",
   "execution_count": null,
   "id": "262a10fe",
   "metadata": {},
   "outputs": [],
   "source": [
    "result=scrape_pdf_PDFMiner(url)"
   ]
  },
  {
   "cell_type": "code",
   "execution_count": null,
   "id": "83305283",
   "metadata": {},
   "outputs": [],
   "source": [
    "len(result)"
   ]
  },
  {
   "cell_type": "code",
   "execution_count": null,
   "id": "890bb3fc",
   "metadata": {},
   "outputs": [],
   "source": [
    "from pyvis.network import Network\n",
    "import networkx as nx\n",
    "\n",
    "G = nx.DiGraph()\n",
    "\n",
    "G.add_node(1, label=result[1].metadata['heading'] , title=result[1].metadata['heading'] , color=\"red\")\n",
    "\n",
    "for i in range(2,len(result)):\n",
    "    topic_name=\"Topic_\"+str(i)\n",
    "    content_name=topic_name+'_'+'content'\n",
    "    G.add_node(topic_name, label=result[i].metadata['heading'] , title=result[i].metadata['heading'],color=\"blue\")\n",
    "    G.add_node(content_name, label=content_name , title=result[i].page_content, color=\"green\")\n",
    "    G.add_edge(1,topic_name)\n",
    "    G.add_edge(topic_name,content_name)\n"
   ]
  },
  {
   "cell_type": "code",
   "execution_count": null,
   "id": "d6f7e078",
   "metadata": {},
   "outputs": [],
   "source": [
    "\n",
    "nt = Network('800px', '2000px',notebook=True)\n",
    "# populates the nodes and edges data structures\n",
    "nt.from_nx(G)\n",
    "nt.toggle_physics(True)\n",
    "nt.show('nx1.html')\n"
   ]
  },
  {
   "cell_type": "code",
   "execution_count": 49,
   "id": "64dc7cb4",
   "metadata": {},
   "outputs": [
    {
     "data": {
      "text/plain": [
       "<networkx.classes.digraph.DiGraph at 0x7ef0d95a2d40>"
      ]
     },
     "execution_count": 49,
     "metadata": {},
     "output_type": "execute_result"
    }
   ],
   "source": [
    "G"
   ]
  },
  {
   "cell_type": "code",
   "execution_count": 140,
   "id": "e29a49e8",
   "metadata": {},
   "outputs": [
    {
     "data": {
      "text/plain": [
       "OutEdgeView([(1, 'Topic_2'), (1, 'Topic_3'), (1, 'Topic_4'), (1, 'Topic_5'), (1, 'Topic_6'), (1, 'Topic_7'), (1, 'Topic_8'), (1, 'Topic_9'), (1, 'Topic_10'), (1, 'Topic_11'), (1, 'Topic_12'), (1, 'Topic_13'), (1, 'Topic_14'), ('Topic_2', 'Topic_2_content'), ('Topic_3', 'Topic_3_content'), ('Topic_4', 'Topic_4_content'), ('Topic_5', 'Topic_5_content'), ('Topic_6', 'Topic_6_content'), ('Topic_7', 'Topic_7_content'), ('Topic_8', 'Topic_8_content'), ('Topic_9', 'Topic_9_content'), ('Topic_10', 'Topic_10_content'), ('Topic_11', 'Topic_11_content'), ('Topic_12', 'Topic_12_content'), ('Topic_13', 'Topic_13_content'), ('Topic_14', 'Topic_14_content')])"
      ]
     },
     "execution_count": 140,
     "metadata": {},
     "output_type": "execute_result"
    }
   ],
   "source": [
    "G.edges"
   ]
  },
  {
   "cell_type": "code",
   "execution_count": 146,
   "id": "f59a9ee7",
   "metadata": {},
   "outputs": [
    {
     "name": "stdout",
     "output_type": "stream",
     "text": [
      "Warning: When  cdn_resources is 'local' jupyter notebook has issues displaying graphics on chrome/safari. Use cdn_resources='in_line' or cdn_resources='remote' if you have issues viewing graphics in a notebook.\n",
      "nx.html\n"
     ]
    },
    {
     "data": {
      "text/html": [
       "\n",
       "        <iframe\n",
       "            width=\"1400px\"\n",
       "            height=\"800px\"\n",
       "            src=\"nx.html\"\n",
       "            frameborder=\"0\"\n",
       "            allowfullscreen\n",
       "            \n",
       "        ></iframe>\n",
       "        "
      ],
      "text/plain": [
       "<IPython.lib.display.IFrame at 0x75a2f63ff7f0>"
      ]
     },
     "execution_count": 146,
     "metadata": {},
     "output_type": "execute_result"
    }
   ],
   "source": []
  },
  {
   "cell_type": "code",
   "execution_count": null,
   "id": "034a5832",
   "metadata": {},
   "outputs": [],
   "source": []
  }
 ],
 "metadata": {
  "kernelspec": {
   "display_name": "search_agent_poc",
   "language": "python",
   "name": "search_agent_poc"
  },
  "language_info": {
   "codemirror_mode": {
    "name": "ipython",
    "version": 3
   },
   "file_extension": ".py",
   "mimetype": "text/x-python",
   "name": "python",
   "nbconvert_exporter": "python",
   "pygments_lexer": "ipython3",
   "version": "3.10.14"
  }
 },
 "nbformat": 4,
 "nbformat_minor": 5
}
